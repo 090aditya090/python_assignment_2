{
 "cells": [
  {
   "cell_type": "markdown",
   "id": "20cb4340",
   "metadata": {},
   "source": [
    "## Programming Assignment_4\n",
    "----------------"
   ]
  },
  {
   "cell_type": "markdown",
   "id": "4fdb6695",
   "metadata": {},
   "source": [
    "### 1. Write a Python Program to Find the Factorial of a Number?\n",
    "##### Sol."
   ]
  },
  {
   "cell_type": "code",
   "execution_count": 1,
   "id": "0e5e7ce2",
   "metadata": {},
   "outputs": [
    {
     "name": "stdout",
     "output_type": "stream",
     "text": [
      "Enter a number: 0\n",
      "\n",
      "Factorial of 0: 1\n"
     ]
    }
   ],
   "source": [
    "num = int(input(\"Enter a number: \"))\n",
    "\n",
    "fact = 1\n",
    "for i in range(num, 0, -1):\n",
    "    fact = fact*i\n",
    "    \n",
    "print(\"\\nFactorial of {}: {}\".format(num, fact))"
   ]
  },
  {
   "cell_type": "markdown",
   "id": "e6beef62",
   "metadata": {},
   "source": [
    "### 2. Write a Python Program to Display the multiplication Table?\n",
    "##### Sol."
   ]
  },
  {
   "cell_type": "code",
   "execution_count": 4,
   "id": "eba74c90",
   "metadata": {},
   "outputs": [
    {
     "name": "stdout",
     "output_type": "stream",
     "text": [
      "Enter a number: 7\n",
      "7 x 1 = 7\n",
      "7 x 2 = 14\n",
      "7 x 3 = 21\n",
      "7 x 4 = 28\n",
      "7 x 5 = 35\n",
      "7 x 6 = 42\n",
      "7 x 7 = 49\n",
      "7 x 8 = 56\n",
      "7 x 9 = 63\n",
      "7 x 10 = 70\n"
     ]
    }
   ],
   "source": [
    "num = int(input(\"Enter a number: \"))\n",
    "\n",
    "for i in range(1, 11):\n",
    "    print(\"{} x {} = {}\".format(num, i, num*i))"
   ]
  },
  {
   "cell_type": "markdown",
   "id": "7de7eba5",
   "metadata": {},
   "source": [
    "### 3. Write a Python Program to Print the Fibonacci sequence?\n",
    "##### Sol."
   ]
  },
  {
   "cell_type": "code",
   "execution_count": 6,
   "id": "14b8e06e",
   "metadata": {},
   "outputs": [
    {
     "name": "stdout",
     "output_type": "stream",
     "text": [
      "Enter a length: 11\n",
      "0 1 1 2 3 5 8 13 21 34 55 "
     ]
    }
   ],
   "source": [
    "fibo_length = int(input(\"Enter a length: \"))\n",
    "\n",
    "a = 0\n",
    "b = 1\n",
    "print(a, end = ' ')\n",
    "print(b, end = ' ')\n",
    "while(fibo_length-2 > 0):\n",
    "    nt = a + b\n",
    "    print(nt, end = ' ')\n",
    "    a = b\n",
    "    b = nt\n",
    "    \n",
    "    fibo_length -= 1"
   ]
  },
  {
   "cell_type": "markdown",
   "id": "0446442e",
   "metadata": {},
   "source": [
    "### 4. Write a Python Program to Check Armstrong Number?\n",
    "##### Sol. "
   ]
  },
  {
   "cell_type": "code",
   "execution_count": 20,
   "id": "8ad65819",
   "metadata": {},
   "outputs": [
    {
     "name": "stdout",
     "output_type": "stream",
     "text": [
      "enter number 153\n",
      "153 number is Amstrong number\n"
     ]
    }
   ],
   "source": [
    "number = input(\"enter number \")\n",
    "num_len = len(number)\n",
    "k = 0\n",
    "for i in number:\n",
    "    k = k + int(i)**num_len\n",
    "\n",
    "if int(number) == k:\n",
    "    print(\"{} number is Amstrong number\".format(k))\n",
    "elif int(number) != k:\n",
    "    print(\"{} is not Amstrong number\".format(k))\n",
    "    \n",
    "        "
   ]
  },
  {
   "cell_type": "markdown",
   "id": "a6f9adfe",
   "metadata": {},
   "source": [
    "### 5. Write a Python Program to Find Armstrong Number in an Interval?\n",
    "##### Sol."
   ]
  },
  {
   "cell_type": "code",
   "execution_count": 41,
   "id": "0c4aa2f5",
   "metadata": {},
   "outputs": [
    {
     "name": "stdout",
     "output_type": "stream",
     "text": [
      "Enter the lower value of range: 100\n",
      "Enter the higher value of range: 1500\n",
      "\n",
      "From 100 to 1500 following are the Armstrong Number:\n",
      "153 370 371 407 "
     ]
    }
   ],
   "source": [
    "low = int(input(\"Enter the lower value of range: \"))\n",
    "high = int(input(\"Enter the higher value of range: \"))\n",
    "\n",
    "print(\"\\nFrom {} to {} following are the Armstrong Number:\".format(low, high), end='\\n')\n",
    "for i in range(low, high+1):\n",
    "    \n",
    "    if(fibo_check(i)):\n",
    "        print(i, end = ' ')"
   ]
  },
  {
   "cell_type": "markdown",
   "id": "157cad60",
   "metadata": {},
   "source": [
    "### 6. Write a Python Program to Find the Sum of Natural Numbers?\n",
    "##### Sol."
   ]
  },
  {
   "cell_type": "code",
   "execution_count": 44,
   "id": "aa7cf139",
   "metadata": {},
   "outputs": [
    {
     "name": "stdout",
     "output_type": "stream",
     "text": [
      "Enter a positive number: 100\n",
      "Sum of 100 natural number is 5050\n"
     ]
    }
   ],
   "source": [
    "num = int(input(\"Enter a positive number: \"))\n",
    "\n",
    "total_sum = 0\n",
    "for i in range(1, num+1):\n",
    "    total_sum += i\n",
    "    \n",
    "print(\"Sum of {} natural number is {}\".format(num, total_sum))"
   ]
  },
  {
   "cell_type": "code",
   "execution_count": null,
   "id": "333c15da",
   "metadata": {},
   "outputs": [],
   "source": []
  }
 ],
 "metadata": {
  "kernelspec": {
   "display_name": "Python 3 (ipykernel)",
   "language": "python",
   "name": "python3"
  },
  "language_info": {
   "codemirror_mode": {
    "name": "ipython",
    "version": 3
   },
   "file_extension": ".py",
   "mimetype": "text/x-python",
   "name": "python",
   "nbconvert_exporter": "python",
   "pygments_lexer": "ipython3",
   "version": "3.7.4"
  }
 },
 "nbformat": 4,
 "nbformat_minor": 5
}
